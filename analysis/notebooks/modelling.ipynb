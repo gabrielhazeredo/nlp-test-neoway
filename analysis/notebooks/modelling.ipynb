{
 "cells": [
  {
   "cell_type": "code",
   "execution_count": null,
   "metadata": {},
   "outputs": [],
   "source": []
  }
 ],
 "metadata": {
  "kernelspec": {
   "display_name": "env",
   "language": "python",
   "name": "python3"
  },
  "language_info": {
   "name": "python",
   "version": "3.8.10"
  },
  "orig_nbformat": 4,
  "vscode": {
   "interpreter": {
    "hash": "83c7377a892b124a9856191a5a9d20e3ff7659b1dab63cf9294e0f0bf41e709b"
   }
  }
 },
 "nbformat": 4,
 "nbformat_minor": 2
}
